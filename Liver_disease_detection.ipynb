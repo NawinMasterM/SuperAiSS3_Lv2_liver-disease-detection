{
  "cells": [
    {
      "cell_type": "markdown",
      "metadata": {
        "id": "49il6xbrz4x6"
      },
      "source": [
        "# Object Detection\n",
        "\n",
        "Here is my code : https://colab.research.google.com/drive/1BMbAYFFjvqP7tV1gvvp5RRHp-m-jVIOy?usp=sharing"
      ]
    },
    {
      "cell_type": "markdown",
      "metadata": {
        "id": "m4A4jONMY8_q"
      },
      "source": [
        "## Library"
      ]
    },
    {
      "cell_type": "code",
      "execution_count": null,
      "metadata": {
        "colab": {
          "base_uri": "https://localhost:8080/"
        },
        "id": "23PtONXV2ekJ",
        "outputId": "3b061d26-08b6-41c8-c85d-fbcab07e093c"
      },
      "outputs": [
        {
          "output_type": "stream",
          "name": "stderr",
          "text": [
            "Ultralytics YOLOv8.0.35 🚀 Python-3.8.10 torch-1.13.1+cu116 CUDA:0 (Tesla T4, 15110MiB)\n",
            "Setup complete ✅ (2 CPUs, 12.7 GB RAM, 24.4/166.8 GB disk)\n"
          ]
        },
        {
          "output_type": "stream",
          "name": "stdout",
          "text": [
            "Cloning into 'ultralytics'...\n",
            "remote: Enumerating objects: 4546, done.\u001b[K\n",
            "remote: Counting objects: 100% (181/181), done.\u001b[K\n",
            "remote: Compressing objects: 100% (144/144), done.\u001b[K\n",
            "remote: Total 4546 (delta 81), reused 101 (delta 33), pack-reused 4365\u001b[K\n",
            "Receiving objects: 100% (4546/4546), 4.07 MiB | 24.92 MiB/s, done.\n",
            "Resolving deltas: 100% (2955/2955), done.\n",
            "  Preparing metadata (setup.py) ... \u001b[?25l\u001b[?25hdone\n",
            "\u001b[2K     \u001b[90m━━━━━━━━━━━━━━━━━━━━━━━━━━━━━━━━━━━━━━━\u001b[0m \u001b[32m123.5/123.5 KB\u001b[0m \u001b[31m7.2 MB/s\u001b[0m eta \u001b[36m0:00:00\u001b[0m\n",
            "\u001b[?25h"
          ]
        }
      ],
      "source": [
        "# Pip install method (recommended)\n",
        "\n",
        "#yolo v8\n",
        "!pip install ultralytics\n",
        "\n",
        "from IPython import display\n",
        "display.clear_output()\n",
        "\n",
        "import ultralytics\n",
        "ultralytics.checks()\n",
        "\n",
        "!pip install -U gdown -qq\n",
        "!pip install split-folders -qq"
      ]
    },
    {
      "cell_type": "code",
      "execution_count": null,
      "metadata": {
        "id": "9m8BnyoLoi3b"
      },
      "outputs": [],
      "source": [
        "import os\n",
        "import shutil\n",
        "import pandas as pd\n",
        "import json\n",
        "import copy\n",
        "from tqdm import tqdm\n",
        "import numpy as np\n",
        "\n",
        "# import splitfolders\n",
        "\n",
        "from ultralytics import YOLO\n",
        "import ultralytics\n",
        "\n",
        "import cv2\n",
        "from google.colab.patches import cv2_imshow\n",
        "from skimage import io\n",
        "\n",
        "import warnings\n",
        "warnings.filterwarnings(\"ignore\")\n",
        "\n",
        "import imageio.core.util"
      ]
    },
    {
      "cell_type": "markdown",
      "metadata": {
        "id": "qUNvCJQTZHr5"
      },
      "source": [
        "## Load data"
      ]
    },
    {
      "cell_type": "code",
      "source": [
        "!gdown 1HIB5GLU6kBMqGeH5z10x3N5KLQPrewzW #train\n",
        "!gdown 1QE2XOMhya1u_lu82ujWjCHC2GoG7oqeY #test\n",
        "!gdown 1NWObOOt9Hj75xf0xGeugaH-OEE-IAaYQ #train_annotations.json\n",
        "!gdown 1x6LQ-Kjm6G_lfun09MrhfRTh1D2eek-H #ไฟล์ yaml(ยำแมว)"
      ],
      "metadata": {
        "colab": {
          "base_uri": "https://localhost:8080/"
        },
        "id": "H1yVCwso0TCl",
        "outputId": "98b6ab46-e093-4653-f9d7-1a9eb9eb82ba"
      },
      "execution_count": null,
      "outputs": [
        {
          "output_type": "stream",
          "name": "stdout",
          "text": [
            "Downloading...\n",
            "From: https://drive.google.com/uc?id=1HIB5GLU6kBMqGeH5z10x3N5KLQPrewzW\n",
            "To: /content/train.zip\n",
            "100% 776M/776M [00:02<00:00, 275MB/s]\n",
            "Downloading...\n",
            "From: https://drive.google.com/uc?id=1QE2XOMhya1u_lu82ujWjCHC2GoG7oqeY\n",
            "To: /content/test.zip\n",
            "100% 150M/150M [00:00<00:00, 188MB/s]\n",
            "Downloading...\n",
            "From: https://drive.google.com/uc?id=1NWObOOt9Hj75xf0xGeugaH-OEE-IAaYQ\n",
            "To: /content/train_annotations.json\n",
            "100% 673k/673k [00:00<00:00, 169MB/s]\n",
            "Downloading...\n",
            "From: https://drive.google.com/uc?id=1x6LQ-Kjm6G_lfun09MrhfRTh1D2eek-H\n",
            "To: /content/coco129.yaml\n",
            "100% 801/801 [00:00<00:00, 1.54MB/s]\n"
          ]
        }
      ]
    },
    {
      "cell_type": "code",
      "source": [
        "!unzip -q /content/train.zip\n",
        "!unzip -q /content/test.zip"
      ],
      "metadata": {
        "id": "wBKhZZ070Xai"
      },
      "execution_count": null,
      "outputs": []
    },
    {
      "cell_type": "markdown",
      "source": [
        "## Normalize Data"
      ],
      "metadata": {
        "id": "mVsjYK5V_jSB"
      }
    },
    {
      "cell_type": "code",
      "source": [
        "def normalize(image):\n",
        "    mean = np.mean(image)\n",
        "    std = np.std(image)\n",
        "    normalized_img = (image - mean) / std\n",
        "    return normalized_img"
      ],
      "metadata": {
        "id": "MR0nnRs8_lCo"
      },
      "execution_count": null,
      "outputs": []
    },
    {
      "cell_type": "code",
      "source": [
        "#ทำให้เวลา save รูปของ skiimage ให้มันไม่ต้องโชว์ผลลัพธ์\n",
        "def ignore_warnings(*args, **kwargs):\n",
        "    pass\n",
        "\n",
        "imageio.core.util._precision_warn = ignore_warnings"
      ],
      "metadata": {
        "id": "87uKWjq2Ap-v"
      },
      "execution_count": null,
      "outputs": []
    },
    {
      "cell_type": "code",
      "source": [
        "base = '/content/train'\n",
        "for i in tqdm(os.listdir(base)):\n",
        "  img_path = os.path.join(base, i)\n",
        "  image = io.imread(img_path)\n",
        "  normalized_image = normalize(image)\n",
        "  io.imsave(f\"{img_path}\", normalized_image)"
      ],
      "metadata": {
        "colab": {
          "base_uri": "https://localhost:8080/"
        },
        "id": "cjjXWfQ5_qxw",
        "outputId": "f230f0c8-9c0b-47c1-d25a-138a207def62"
      },
      "execution_count": null,
      "outputs": [
        {
          "output_type": "stream",
          "name": "stderr",
          "text": [
            "100%|██████████| 13363/13363 [05:42<00:00, 38.99it/s]\n"
          ]
        }
      ]
    },
    {
      "cell_type": "code",
      "source": [
        "base = '/content/test'\n",
        "for i in tqdm(os.listdir(base)):\n",
        "  img_path = os.path.join(base, i)\n",
        "  image = io.imread(img_path)\n",
        "  normalized_image = normalize(image)\n",
        "  io.imsave(f\"{img_path}\", normalized_image)"
      ],
      "metadata": {
        "colab": {
          "base_uri": "https://localhost:8080/"
        },
        "id": "PJiP-1TX_6B_",
        "outputId": "8648d09a-a660-412c-d475-18c6742a1103"
      },
      "execution_count": null,
      "outputs": [
        {
          "output_type": "stream",
          "name": "stderr",
          "text": [
            "100%|██████████| 2500/2500 [00:59<00:00, 41.99it/s]\n"
          ]
        }
      ]
    },
    {
      "cell_type": "markdown",
      "metadata": {
        "id": "DdKw6P-lZF_K"
      },
      "source": [
        "## Read"
      ]
    },
    {
      "cell_type": "code",
      "execution_count": null,
      "metadata": {
        "id": "Dv5LKzLOpt8a"
      },
      "outputs": [],
      "source": [
        "f = open('/content/train_annotations.json')\n",
        "data = json.load(f)"
      ]
    },
    {
      "cell_type": "code",
      "execution_count": null,
      "metadata": {
        "colab": {
          "base_uri": "https://localhost:8080/"
        },
        "id": "DJewk8kX9XRC",
        "outputId": "0b08d87b-9d94-4cd4-b4d9-5341e702162c"
      },
      "outputs": [
        {
          "output_type": "stream",
          "name": "stderr",
          "text": [
            " 78%|███████▊  | 10484/13364 [00:41<00:16, 178.12it/s]"
          ]
        },
        {
          "output_type": "stream",
          "name": "stdout",
          "text": [
            "\n",
            " /content/train/.DS_Store\n"
          ]
        },
        {
          "output_type": "stream",
          "name": "stderr",
          "text": [
            "100%|██████████| 13364/13364 [00:52<00:00, 255.13it/s]\n"
          ]
        }
      ],
      "source": [
        "row = []\n",
        "for i in tqdm(data):\n",
        "  try:\n",
        "    path = os.path.join('/content/train', i)\n",
        "    img = cv2.imread(path)\n",
        "    H, W = img.shape[:-1]\n",
        "    dic = data[i]\n",
        "    boxes = dic['boxes']\n",
        "    labels = dic['labels']\n",
        "    com = 10\n",
        "    if len(boxes) != 0:\n",
        "      for j in range(len(boxes)):\n",
        "        # print(boxes[j])\n",
        "        x1 = boxes[j][0]\n",
        "        y1 = boxes[j][1]\n",
        "        x2 = boxes[j][2]\n",
        "        y2 = boxes[j][3]\n",
        "\n",
        "        cls = labels[j]\n",
        "\n",
        "        row.append([x1, y1, x2, y2, cls, path, H, W])\n",
        "    else:\n",
        "      row.append([0, 0, 0, 0, 3, path, H, W])\n",
        "\n",
        "  except:\n",
        "    print('\\n', path)\n",
        "    pass"
      ]
    },
    {
      "cell_type": "code",
      "execution_count": null,
      "metadata": {
        "id": "M1ARAnutAQMT",
        "colab": {
          "base_uri": "https://localhost:8080/",
          "height": 206
        },
        "outputId": "3ffb0678-5a51-4500-bd67-e59f18cdc836"
      },
      "outputs": [
        {
          "output_type": "execute_result",
          "data": {
            "text/plain": [
              "    x1   y1   x2   y2  class                  path    H    W\n",
              "0  439  315  506  384      0  /content/train/0.jpg  692  922\n",
              "1  549  187  618  281      0  /content/train/1.jpg  660  880\n",
              "2  293  254  315  273      0  /content/train/3.jpg  660  880\n",
              "3  216  275  312  346      1  /content/train/4.jpg  660  880\n",
              "4  509  150  579  234      1  /content/train/4.jpg  660  880"
            ],
            "text/html": [
              "\n",
              "  <div id=\"df-f6a60fbe-c64f-443f-9004-e0b41c8a0bef\">\n",
              "    <div class=\"colab-df-container\">\n",
              "      <div>\n",
              "<style scoped>\n",
              "    .dataframe tbody tr th:only-of-type {\n",
              "        vertical-align: middle;\n",
              "    }\n",
              "\n",
              "    .dataframe tbody tr th {\n",
              "        vertical-align: top;\n",
              "    }\n",
              "\n",
              "    .dataframe thead th {\n",
              "        text-align: right;\n",
              "    }\n",
              "</style>\n",
              "<table border=\"1\" class=\"dataframe\">\n",
              "  <thead>\n",
              "    <tr style=\"text-align: right;\">\n",
              "      <th></th>\n",
              "      <th>x1</th>\n",
              "      <th>y1</th>\n",
              "      <th>x2</th>\n",
              "      <th>y2</th>\n",
              "      <th>class</th>\n",
              "      <th>path</th>\n",
              "      <th>H</th>\n",
              "      <th>W</th>\n",
              "    </tr>\n",
              "  </thead>\n",
              "  <tbody>\n",
              "    <tr>\n",
              "      <th>0</th>\n",
              "      <td>439</td>\n",
              "      <td>315</td>\n",
              "      <td>506</td>\n",
              "      <td>384</td>\n",
              "      <td>0</td>\n",
              "      <td>/content/train/0.jpg</td>\n",
              "      <td>692</td>\n",
              "      <td>922</td>\n",
              "    </tr>\n",
              "    <tr>\n",
              "      <th>1</th>\n",
              "      <td>549</td>\n",
              "      <td>187</td>\n",
              "      <td>618</td>\n",
              "      <td>281</td>\n",
              "      <td>0</td>\n",
              "      <td>/content/train/1.jpg</td>\n",
              "      <td>660</td>\n",
              "      <td>880</td>\n",
              "    </tr>\n",
              "    <tr>\n",
              "      <th>2</th>\n",
              "      <td>293</td>\n",
              "      <td>254</td>\n",
              "      <td>315</td>\n",
              "      <td>273</td>\n",
              "      <td>0</td>\n",
              "      <td>/content/train/3.jpg</td>\n",
              "      <td>660</td>\n",
              "      <td>880</td>\n",
              "    </tr>\n",
              "    <tr>\n",
              "      <th>3</th>\n",
              "      <td>216</td>\n",
              "      <td>275</td>\n",
              "      <td>312</td>\n",
              "      <td>346</td>\n",
              "      <td>1</td>\n",
              "      <td>/content/train/4.jpg</td>\n",
              "      <td>660</td>\n",
              "      <td>880</td>\n",
              "    </tr>\n",
              "    <tr>\n",
              "      <th>4</th>\n",
              "      <td>509</td>\n",
              "      <td>150</td>\n",
              "      <td>579</td>\n",
              "      <td>234</td>\n",
              "      <td>1</td>\n",
              "      <td>/content/train/4.jpg</td>\n",
              "      <td>660</td>\n",
              "      <td>880</td>\n",
              "    </tr>\n",
              "  </tbody>\n",
              "</table>\n",
              "</div>\n",
              "      <button class=\"colab-df-convert\" onclick=\"convertToInteractive('df-f6a60fbe-c64f-443f-9004-e0b41c8a0bef')\"\n",
              "              title=\"Convert this dataframe to an interactive table.\"\n",
              "              style=\"display:none;\">\n",
              "        \n",
              "  <svg xmlns=\"http://www.w3.org/2000/svg\" height=\"24px\"viewBox=\"0 0 24 24\"\n",
              "       width=\"24px\">\n",
              "    <path d=\"M0 0h24v24H0V0z\" fill=\"none\"/>\n",
              "    <path d=\"M18.56 5.44l.94 2.06.94-2.06 2.06-.94-2.06-.94-.94-2.06-.94 2.06-2.06.94zm-11 1L8.5 8.5l.94-2.06 2.06-.94-2.06-.94L8.5 2.5l-.94 2.06-2.06.94zm10 10l.94 2.06.94-2.06 2.06-.94-2.06-.94-.94-2.06-.94 2.06-2.06.94z\"/><path d=\"M17.41 7.96l-1.37-1.37c-.4-.4-.92-.59-1.43-.59-.52 0-1.04.2-1.43.59L10.3 9.45l-7.72 7.72c-.78.78-.78 2.05 0 2.83L4 21.41c.39.39.9.59 1.41.59.51 0 1.02-.2 1.41-.59l7.78-7.78 2.81-2.81c.8-.78.8-2.07 0-2.86zM5.41 20L4 18.59l7.72-7.72 1.47 1.35L5.41 20z\"/>\n",
              "  </svg>\n",
              "      </button>\n",
              "      \n",
              "  <style>\n",
              "    .colab-df-container {\n",
              "      display:flex;\n",
              "      flex-wrap:wrap;\n",
              "      gap: 12px;\n",
              "    }\n",
              "\n",
              "    .colab-df-convert {\n",
              "      background-color: #E8F0FE;\n",
              "      border: none;\n",
              "      border-radius: 50%;\n",
              "      cursor: pointer;\n",
              "      display: none;\n",
              "      fill: #1967D2;\n",
              "      height: 32px;\n",
              "      padding: 0 0 0 0;\n",
              "      width: 32px;\n",
              "    }\n",
              "\n",
              "    .colab-df-convert:hover {\n",
              "      background-color: #E2EBFA;\n",
              "      box-shadow: 0px 1px 2px rgba(60, 64, 67, 0.3), 0px 1px 3px 1px rgba(60, 64, 67, 0.15);\n",
              "      fill: #174EA6;\n",
              "    }\n",
              "\n",
              "    [theme=dark] .colab-df-convert {\n",
              "      background-color: #3B4455;\n",
              "      fill: #D2E3FC;\n",
              "    }\n",
              "\n",
              "    [theme=dark] .colab-df-convert:hover {\n",
              "      background-color: #434B5C;\n",
              "      box-shadow: 0px 1px 3px 1px rgba(0, 0, 0, 0.15);\n",
              "      filter: drop-shadow(0px 1px 2px rgba(0, 0, 0, 0.3));\n",
              "      fill: #FFFFFF;\n",
              "    }\n",
              "  </style>\n",
              "\n",
              "      <script>\n",
              "        const buttonEl =\n",
              "          document.querySelector('#df-f6a60fbe-c64f-443f-9004-e0b41c8a0bef button.colab-df-convert');\n",
              "        buttonEl.style.display =\n",
              "          google.colab.kernel.accessAllowed ? 'block' : 'none';\n",
              "\n",
              "        async function convertToInteractive(key) {\n",
              "          const element = document.querySelector('#df-f6a60fbe-c64f-443f-9004-e0b41c8a0bef');\n",
              "          const dataTable =\n",
              "            await google.colab.kernel.invokeFunction('convertToInteractive',\n",
              "                                                     [key], {});\n",
              "          if (!dataTable) return;\n",
              "\n",
              "          const docLinkHtml = 'Like what you see? Visit the ' +\n",
              "            '<a target=\"_blank\" href=https://colab.research.google.com/notebooks/data_table.ipynb>data table notebook</a>'\n",
              "            + ' to learn more about interactive tables.';\n",
              "          element.innerHTML = '';\n",
              "          dataTable['output_type'] = 'display_data';\n",
              "          await google.colab.output.renderOutput(dataTable, element);\n",
              "          const docLink = document.createElement('div');\n",
              "          docLink.innerHTML = docLinkHtml;\n",
              "          element.appendChild(docLink);\n",
              "        }\n",
              "      </script>\n",
              "    </div>\n",
              "  </div>\n",
              "  "
            ]
          },
          "metadata": {},
          "execution_count": 39
        }
      ],
      "source": [
        "df = pd.DataFrame(row, columns=['x1', 'y1', 'x2', 'y2',  'class', 'path', 'H', 'W'])\n",
        "df.head()"
      ]
    },
    {
      "cell_type": "code",
      "execution_count": null,
      "metadata": {
        "id": "aeeZiQUGLVWy",
        "colab": {
          "base_uri": "https://localhost:8080/",
          "height": 423
        },
        "outputId": "43175d13-2d3d-4496-a6c4-a9e41ad77fa3"
      },
      "outputs": [
        {
          "output_type": "execute_result",
          "data": {
            "text/plain": [
              "        x1   y1   x2   y2  class  ...    W  x_center  y_center  x_ration  \\\n",
              "0      439  315  506  384      0  ...  922  0.512473  0.505058  0.072668   \n",
              "1      549  187  618  281      0  ...  880  0.663068  0.354545  0.078409   \n",
              "2      293  254  315  273      0  ...  880  0.345455  0.399242  0.025000   \n",
              "3      216  275  312  346      1  ...  880  0.300000  0.470455  0.109091   \n",
              "4      509  150  579  234      1  ...  880  0.618182  0.290909  0.079545   \n",
              "...    ...  ...  ...  ...    ...  ...  ...       ...       ...       ...   \n",
              "14148    0    0    0    0      3  ...  880  0.000000  0.000000  0.000000   \n",
              "14149    0    0    0    0      3  ...  880  0.000000  0.000000  0.000000   \n",
              "14150    0    0    0    0      3  ...  880  0.000000  0.000000  0.000000   \n",
              "14151    0    0    0    0      3  ...  880  0.000000  0.000000  0.000000   \n",
              "14152    0    0    0    0      3  ...  880  0.000000  0.000000  0.000000   \n",
              "\n",
              "       y_ration  \n",
              "0      0.099711  \n",
              "1      0.142424  \n",
              "2      0.028788  \n",
              "3      0.107576  \n",
              "4      0.127273  \n",
              "...         ...  \n",
              "14148  0.000000  \n",
              "14149  0.000000  \n",
              "14150  0.000000  \n",
              "14151  0.000000  \n",
              "14152  0.000000  \n",
              "\n",
              "[14153 rows x 12 columns]"
            ],
            "text/html": [
              "\n",
              "  <div id=\"df-4a6bf257-a709-49e5-85ea-5f5da6aad45b\">\n",
              "    <div class=\"colab-df-container\">\n",
              "      <div>\n",
              "<style scoped>\n",
              "    .dataframe tbody tr th:only-of-type {\n",
              "        vertical-align: middle;\n",
              "    }\n",
              "\n",
              "    .dataframe tbody tr th {\n",
              "        vertical-align: top;\n",
              "    }\n",
              "\n",
              "    .dataframe thead th {\n",
              "        text-align: right;\n",
              "    }\n",
              "</style>\n",
              "<table border=\"1\" class=\"dataframe\">\n",
              "  <thead>\n",
              "    <tr style=\"text-align: right;\">\n",
              "      <th></th>\n",
              "      <th>x1</th>\n",
              "      <th>y1</th>\n",
              "      <th>x2</th>\n",
              "      <th>y2</th>\n",
              "      <th>class</th>\n",
              "      <th>...</th>\n",
              "      <th>W</th>\n",
              "      <th>x_center</th>\n",
              "      <th>y_center</th>\n",
              "      <th>x_ration</th>\n",
              "      <th>y_ration</th>\n",
              "    </tr>\n",
              "  </thead>\n",
              "  <tbody>\n",
              "    <tr>\n",
              "      <th>0</th>\n",
              "      <td>439</td>\n",
              "      <td>315</td>\n",
              "      <td>506</td>\n",
              "      <td>384</td>\n",
              "      <td>0</td>\n",
              "      <td>...</td>\n",
              "      <td>922</td>\n",
              "      <td>0.512473</td>\n",
              "      <td>0.505058</td>\n",
              "      <td>0.072668</td>\n",
              "      <td>0.099711</td>\n",
              "    </tr>\n",
              "    <tr>\n",
              "      <th>1</th>\n",
              "      <td>549</td>\n",
              "      <td>187</td>\n",
              "      <td>618</td>\n",
              "      <td>281</td>\n",
              "      <td>0</td>\n",
              "      <td>...</td>\n",
              "      <td>880</td>\n",
              "      <td>0.663068</td>\n",
              "      <td>0.354545</td>\n",
              "      <td>0.078409</td>\n",
              "      <td>0.142424</td>\n",
              "    </tr>\n",
              "    <tr>\n",
              "      <th>2</th>\n",
              "      <td>293</td>\n",
              "      <td>254</td>\n",
              "      <td>315</td>\n",
              "      <td>273</td>\n",
              "      <td>0</td>\n",
              "      <td>...</td>\n",
              "      <td>880</td>\n",
              "      <td>0.345455</td>\n",
              "      <td>0.399242</td>\n",
              "      <td>0.025000</td>\n",
              "      <td>0.028788</td>\n",
              "    </tr>\n",
              "    <tr>\n",
              "      <th>3</th>\n",
              "      <td>216</td>\n",
              "      <td>275</td>\n",
              "      <td>312</td>\n",
              "      <td>346</td>\n",
              "      <td>1</td>\n",
              "      <td>...</td>\n",
              "      <td>880</td>\n",
              "      <td>0.300000</td>\n",
              "      <td>0.470455</td>\n",
              "      <td>0.109091</td>\n",
              "      <td>0.107576</td>\n",
              "    </tr>\n",
              "    <tr>\n",
              "      <th>4</th>\n",
              "      <td>509</td>\n",
              "      <td>150</td>\n",
              "      <td>579</td>\n",
              "      <td>234</td>\n",
              "      <td>1</td>\n",
              "      <td>...</td>\n",
              "      <td>880</td>\n",
              "      <td>0.618182</td>\n",
              "      <td>0.290909</td>\n",
              "      <td>0.079545</td>\n",
              "      <td>0.127273</td>\n",
              "    </tr>\n",
              "    <tr>\n",
              "      <th>...</th>\n",
              "      <td>...</td>\n",
              "      <td>...</td>\n",
              "      <td>...</td>\n",
              "      <td>...</td>\n",
              "      <td>...</td>\n",
              "      <td>...</td>\n",
              "      <td>...</td>\n",
              "      <td>...</td>\n",
              "      <td>...</td>\n",
              "      <td>...</td>\n",
              "      <td>...</td>\n",
              "    </tr>\n",
              "    <tr>\n",
              "      <th>14148</th>\n",
              "      <td>0</td>\n",
              "      <td>0</td>\n",
              "      <td>0</td>\n",
              "      <td>0</td>\n",
              "      <td>3</td>\n",
              "      <td>...</td>\n",
              "      <td>880</td>\n",
              "      <td>0.000000</td>\n",
              "      <td>0.000000</td>\n",
              "      <td>0.000000</td>\n",
              "      <td>0.000000</td>\n",
              "    </tr>\n",
              "    <tr>\n",
              "      <th>14149</th>\n",
              "      <td>0</td>\n",
              "      <td>0</td>\n",
              "      <td>0</td>\n",
              "      <td>0</td>\n",
              "      <td>3</td>\n",
              "      <td>...</td>\n",
              "      <td>880</td>\n",
              "      <td>0.000000</td>\n",
              "      <td>0.000000</td>\n",
              "      <td>0.000000</td>\n",
              "      <td>0.000000</td>\n",
              "    </tr>\n",
              "    <tr>\n",
              "      <th>14150</th>\n",
              "      <td>0</td>\n",
              "      <td>0</td>\n",
              "      <td>0</td>\n",
              "      <td>0</td>\n",
              "      <td>3</td>\n",
              "      <td>...</td>\n",
              "      <td>880</td>\n",
              "      <td>0.000000</td>\n",
              "      <td>0.000000</td>\n",
              "      <td>0.000000</td>\n",
              "      <td>0.000000</td>\n",
              "    </tr>\n",
              "    <tr>\n",
              "      <th>14151</th>\n",
              "      <td>0</td>\n",
              "      <td>0</td>\n",
              "      <td>0</td>\n",
              "      <td>0</td>\n",
              "      <td>3</td>\n",
              "      <td>...</td>\n",
              "      <td>880</td>\n",
              "      <td>0.000000</td>\n",
              "      <td>0.000000</td>\n",
              "      <td>0.000000</td>\n",
              "      <td>0.000000</td>\n",
              "    </tr>\n",
              "    <tr>\n",
              "      <th>14152</th>\n",
              "      <td>0</td>\n",
              "      <td>0</td>\n",
              "      <td>0</td>\n",
              "      <td>0</td>\n",
              "      <td>3</td>\n",
              "      <td>...</td>\n",
              "      <td>880</td>\n",
              "      <td>0.000000</td>\n",
              "      <td>0.000000</td>\n",
              "      <td>0.000000</td>\n",
              "      <td>0.000000</td>\n",
              "    </tr>\n",
              "  </tbody>\n",
              "</table>\n",
              "<p>14153 rows × 12 columns</p>\n",
              "</div>\n",
              "      <button class=\"colab-df-convert\" onclick=\"convertToInteractive('df-4a6bf257-a709-49e5-85ea-5f5da6aad45b')\"\n",
              "              title=\"Convert this dataframe to an interactive table.\"\n",
              "              style=\"display:none;\">\n",
              "        \n",
              "  <svg xmlns=\"http://www.w3.org/2000/svg\" height=\"24px\"viewBox=\"0 0 24 24\"\n",
              "       width=\"24px\">\n",
              "    <path d=\"M0 0h24v24H0V0z\" fill=\"none\"/>\n",
              "    <path d=\"M18.56 5.44l.94 2.06.94-2.06 2.06-.94-2.06-.94-.94-2.06-.94 2.06-2.06.94zm-11 1L8.5 8.5l.94-2.06 2.06-.94-2.06-.94L8.5 2.5l-.94 2.06-2.06.94zm10 10l.94 2.06.94-2.06 2.06-.94-2.06-.94-.94-2.06-.94 2.06-2.06.94z\"/><path d=\"M17.41 7.96l-1.37-1.37c-.4-.4-.92-.59-1.43-.59-.52 0-1.04.2-1.43.59L10.3 9.45l-7.72 7.72c-.78.78-.78 2.05 0 2.83L4 21.41c.39.39.9.59 1.41.59.51 0 1.02-.2 1.41-.59l7.78-7.78 2.81-2.81c.8-.78.8-2.07 0-2.86zM5.41 20L4 18.59l7.72-7.72 1.47 1.35L5.41 20z\"/>\n",
              "  </svg>\n",
              "      </button>\n",
              "      \n",
              "  <style>\n",
              "    .colab-df-container {\n",
              "      display:flex;\n",
              "      flex-wrap:wrap;\n",
              "      gap: 12px;\n",
              "    }\n",
              "\n",
              "    .colab-df-convert {\n",
              "      background-color: #E8F0FE;\n",
              "      border: none;\n",
              "      border-radius: 50%;\n",
              "      cursor: pointer;\n",
              "      display: none;\n",
              "      fill: #1967D2;\n",
              "      height: 32px;\n",
              "      padding: 0 0 0 0;\n",
              "      width: 32px;\n",
              "    }\n",
              "\n",
              "    .colab-df-convert:hover {\n",
              "      background-color: #E2EBFA;\n",
              "      box-shadow: 0px 1px 2px rgba(60, 64, 67, 0.3), 0px 1px 3px 1px rgba(60, 64, 67, 0.15);\n",
              "      fill: #174EA6;\n",
              "    }\n",
              "\n",
              "    [theme=dark] .colab-df-convert {\n",
              "      background-color: #3B4455;\n",
              "      fill: #D2E3FC;\n",
              "    }\n",
              "\n",
              "    [theme=dark] .colab-df-convert:hover {\n",
              "      background-color: #434B5C;\n",
              "      box-shadow: 0px 1px 3px 1px rgba(0, 0, 0, 0.15);\n",
              "      filter: drop-shadow(0px 1px 2px rgba(0, 0, 0, 0.3));\n",
              "      fill: #FFFFFF;\n",
              "    }\n",
              "  </style>\n",
              "\n",
              "      <script>\n",
              "        const buttonEl =\n",
              "          document.querySelector('#df-4a6bf257-a709-49e5-85ea-5f5da6aad45b button.colab-df-convert');\n",
              "        buttonEl.style.display =\n",
              "          google.colab.kernel.accessAllowed ? 'block' : 'none';\n",
              "\n",
              "        async function convertToInteractive(key) {\n",
              "          const element = document.querySelector('#df-4a6bf257-a709-49e5-85ea-5f5da6aad45b');\n",
              "          const dataTable =\n",
              "            await google.colab.kernel.invokeFunction('convertToInteractive',\n",
              "                                                     [key], {});\n",
              "          if (!dataTable) return;\n",
              "\n",
              "          const docLinkHtml = 'Like what you see? Visit the ' +\n",
              "            '<a target=\"_blank\" href=https://colab.research.google.com/notebooks/data_table.ipynb>data table notebook</a>'\n",
              "            + ' to learn more about interactive tables.';\n",
              "          element.innerHTML = '';\n",
              "          dataTable['output_type'] = 'display_data';\n",
              "          await google.colab.output.renderOutput(dataTable, element);\n",
              "          const docLink = document.createElement('div');\n",
              "          docLink.innerHTML = docLinkHtml;\n",
              "          element.appendChild(docLink);\n",
              "        }\n",
              "      </script>\n",
              "    </div>\n",
              "  </div>\n",
              "  "
            ]
          },
          "metadata": {},
          "execution_count": 40
        }
      ],
      "source": [
        "df['x_center'] = (df['x2'] + df['x1']) / 2 / df['W']\n",
        "df['y_center'] = (df['y2'] + df['y1']) / 2 / df['H']\n",
        "df['x_ration'] = (df['x2'] - df['x1']) / df['W']\n",
        "df['y_ration'] = (df['y2'] - df['y1']) / df['H']\n",
        "df"
      ]
    },
    {
      "cell_type": "markdown",
      "metadata": {
        "id": "n9YDL5IGoUMs"
      },
      "source": [
        "## Create folder format for Train Model"
      ]
    },
    {
      "cell_type": "markdown",
      "metadata": {
        "id": "jpo8F49RoeCc"
      },
      "source": [
        "![image.png](data:image/png;base64,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)"
      ]
    },
    {
      "cell_type": "code",
      "source": [
        "!rm -rf /content/coco128"
      ],
      "metadata": {
        "id": "nns3trQKA-m1"
      },
      "execution_count": null,
      "outputs": []
    },
    {
      "cell_type": "code",
      "source": [
        "!mkdir -p coco128/images/train\n",
        "!mkdir -p coco128/labels/train"
      ],
      "metadata": {
        "id": "uyBDzKka3Wxd"
      },
      "execution_count": null,
      "outputs": []
    },
    {
      "cell_type": "code",
      "execution_count": null,
      "metadata": {
        "colab": {
          "base_uri": "https://localhost:8080/"
        },
        "id": "Q5yzRSG5iynV",
        "outputId": "c8db5071-10c5-4ba0-d637-fc32b417d731"
      },
      "outputs": [
        {
          "output_type": "stream",
          "name": "stderr",
          "text": [
            "100%|██████████| 14153/14153 [00:47<00:00, 298.62it/s]\n"
          ]
        }
      ],
      "source": [
        "#create folder for train\n",
        "for i in tqdm(range(len(df))):\n",
        "  try:\n",
        "    image_path = df.loc[i, 'path'].split('/')[-1]\n",
        "    image_path2 = f'/content/coco128/images/train/{image_path[:-4]}.jpg'\n",
        "    \n",
        "    if image_path not in os.listdir('/content/coco128/images/train'):\n",
        "      shutil.copyfile(df.loc[i, 'path'], image_path2)\n",
        "      label_path = '/content/coco128/labels/train'\n",
        "\n",
        "      if df.loc[i, 'class'] != 3:\n",
        "        f = open(f\"{label_path}/{image_path[:-4]}.txt\", \"a\")\n",
        "        txt = f\"{df.loc[i, 'class']} {df.loc[i, 'x_center']} {df.loc[i, 'y_center']} {df.loc[i, 'x_ration']} {df.loc[i, 'y_ration']}\"\n",
        "        idx = i\n",
        "        while True:\n",
        "          idx += 1\n",
        "          if df.loc[idx, 'path'].split('/')[-1] == image_path:\n",
        "            txt += f\"\\n{df.loc[idx, 'class']} {df.loc[idx, 'x_center']} {df.loc[idx, 'y_center']} {df.loc[idx, 'x_ration']} {df.loc[idx, 'y_ration']}\"\n",
        "          else:\n",
        "            f.write(f\"{txt}\")\n",
        "            break\n",
        "      else:\n",
        "        with open(f\"{label_path}/{image_path[:-4]}.txt\", 'w') as file:\n",
        "          pass\n",
        "  except:\n",
        "    pass"
      ]
    },
    {
      "cell_type": "code",
      "execution_count": null,
      "metadata": {
        "colab": {
          "base_uri": "https://localhost:8080/",
          "height": 282
        },
        "id": "TCfSybKpfgDv",
        "outputId": "1fa7b902-1e6f-4d99-b57a-6686a00bd3a7"
      },
      "outputs": [
        {
          "output_type": "execute_result",
          "data": {
            "text/plain": [
              "<matplotlib.axes._subplots.AxesSubplot at 0x7f5352a358b0>"
            ]
          },
          "metadata": {},
          "execution_count": 44
        },
        {
          "output_type": "display_data",
          "data": {
            "text/plain": [
              "<Figure size 432x288 with 1 Axes>"
            ],
            "image/png": "[encoded data removed]"
          },
          "metadata": {
            "needs_background": "light"
          }
        }
      ],
      "source": [
        "df['class'].hist()"
      ]
    },
    {
      "cell_type": "markdown",
      "metadata": {
        "id": "asWMk4ujyxmS"
      },
      "source": [
        "## Model"
      ]
    },
    {
      "cell_type": "markdown",
      "metadata": {
        "id": "8KXQPa-6eE1e"
      },
      "source": [
        "### Train"
      ]
    },
    {
      "cell_type": "markdown",
      "metadata": {
        "id": "ztNLh6OCK_ga"
      },
      "source": [
        "yaml format\n",
        "\n",
        "```\n",
        "# Ultralytics YOLO 🚀, GPL-3.0 license\n",
        "# COCO128 dataset https://www.kaggle.com/ultralytics/coco128 (first 128 images from COCO train2017) by Ultralytics\n",
        "# Example usage: python train.py --data coco128.yaml\n",
        "# parent\n",
        "# ├── yolov5\n",
        "# └── datasets\n",
        "#     └── coco128  ← downloads here (7 MB)\n",
        "\n",
        "\n",
        "# Train/val/test sets as 1) dir: path/to/imgs, 2) file: path/to/imgs.txt, or 3) list: [path/to/imgs1, path/to/imgs2, ..]\n",
        "path: /content/coco128  # dataset root dir\n",
        "train: images/train2017  # train images (relative to 'path') 128 images\n",
        "val: images/train2017  # val images (relative to 'path') 128 images\n",
        "test:  # test images (optional)\n",
        "\n",
        "# Classes\n",
        "names:\n",
        "  0: cystic\n",
        "  1: FFS\n",
        "  2: solid\n",
        "\n",
        "\n",
        "# Download script/URL (optional)\n",
        "download: https://ultralytics.com/assets/coco128.zip\n",
        "```"
      ]
    },
    {
      "cell_type": "code",
      "execution_count": null,
      "metadata": {
        "colab": {
          "base_uri": "https://localhost:8080/"
        },
        "id": "4XocJLaUkPwO",
        "outputId": "e9508390-e621-4b81-c75a-9e9fc4f82425"
      },
      "outputs": [
        {
          "output_type": "stream",
          "name": "stdout",
          "text": [
            "Sun Feb 12 04:54:25 2023       \n",
            "+-----------------------------------------------------------------------------+\n",
            "| NVIDIA-SMI 510.47.03    Driver Version: 510.47.03    CUDA Version: 11.6     |\n",
            "|-------------------------------+----------------------+----------------------+\n",
            "| GPU  Name        Persistence-M| Bus-Id        Disp.A | Volatile Uncorr. ECC |\n",
            "| Fan  Temp  Perf  Pwr:Usage/Cap|         Memory-Usage | GPU-Util  Compute M. |\n",
            "|                               |                      |               MIG M. |\n",
            "|===============================+======================+======================|\n",
            "|   0  Tesla T4            Off  | 00000000:00:04.0 Off |                    0 |\n",
            "| N/A   67C    P0    32W /  70W |   1838MiB / 15360MiB |      0%      Default |\n",
            "|                               |                      |                  N/A |\n",
            "+-------------------------------+----------------------+----------------------+\n",
            "                                                                               \n",
            "+-----------------------------------------------------------------------------+\n",
            "| Processes:                                                                  |\n",
            "|  GPU   GI   CI        PID   Type   Process name                  GPU Memory |\n",
            "|        ID   ID                                                   Usage      |\n",
            "|=============================================================================|\n",
            "|    0   N/A  N/A     10875      C                                    1835MiB |\n",
            "+-----------------------------------------------------------------------------+\n"
          ]
        }
      ],
      "source": [
        "!nvidia-smi"
      ]
    },
    {
      "cell_type": "code",
      "execution_count": null,
      "metadata": {
        "colab": {
          "base_uri": "https://localhost:8080/",
          "height": 1000,
          "referenced_widgets": [
            "ed65b275020a45debd41bcb97bfb9cba",
            "2d0a4de8228e43cfbadc34697d7c5002",
            "228cbaba55394055b54a9a11adf6351c",
            "271f49fb8286448886ba37ccef28279f",
            "0b02a6f88c214d11a049b08f53154d72",
            "6974066d2b45458c831786c4f06f58f6",
            "7158ebfc464743b7a4cdeb8f1796689c",
            "4b98ffb3a274445fa355588f6d190b5d",
            "420c1486de0d4b04b512d00d5618cb3f",
            "c1da351db2334df9874dda6739fc9c50",
            "276bc30a57e74ba1861dcb6a2ea2b864"
          ]
        },
        "id": "4jH49VvK3rC9",
        "outputId": "72bc80ed-e5a4-4fb3-a55f-0efedfece17c"
      },
      "outputs": [
        {
          "metadata": {
            "tags": null
          },
          "name": "stderr",
          "output_type": "stream",
          "text": [
            "Downloading https://github.com/ultralytics/assets/releases/download/v0.0.0/yolov8x.pt to yolov8x.pt...\n"
          ]
        },
        {
          "data": {
            "application/vnd.jupyter.widget-view+json": {
              "model_id": "ed65b275020a45debd41bcb97bfb9cba",
              "version_major": 2,
              "version_minor": 0
            },
            "text/plain": [
              "  0%|          | 0.00/131M [00:00<?, ?B/s]"
            ]
          },
          "metadata": {},
          "output_type": "display_data"
        },
        {
          "metadata": {
            "tags": null
          },
          "name": "stderr",
          "output_type": "stream",
          "text": [
            "Ultralytics YOLOv8.0.35 🚀 Python-3.8.10 torch-1.13.1+cu116 CUDA:0 (Tesla T4, 15110MiB)\n",
            "\u001b[34m\u001b[1myolo/engine/trainer: \u001b[0mtask=detect, mode=train, model=yolov8x.yaml, data=coco129.yaml, epochs=12, patience=50, batch=-1, imgsz=640, save=True, save_period=-1, cache=False, device=None, workers=8, project=model, name=None, exist_ok=False, pretrained=False, optimizer=SGD, verbose=True, seed=0, deterministic=True, single_cls=False, image_weights=False, rect=False, cos_lr=False, close_mosaic=10, resume=False, min_memory=False, overlap_mask=True, mask_ratio=4, dropout=False, val=True, split=val, save_json=False, save_hybrid=False, conf=0.001, iou=0.7, max_det=300, half=False, dnn=False, plots=True, source=ultralytics/assets/, show=False, save_txt=False, save_conf=False, save_crop=False, hide_labels=False, hide_conf=False, vid_stride=1, line_thickness=3, visualize=False, augment=False, agnostic_nms=False, classes=None, retina_masks=False, boxes=True, format=torchscript, keras=False, optimize=False, int8=False, dynamic=False, simplify=False, opset=17, workspace=4, nms=False, lr0=0.01, lrf=0.01, momentum=0.937, weight_decay=0.0010078125, warmup_epochs=3.0, warmup_momentum=0.8, warmup_bias_lr=0.1, box=7.5, cls=0.5, dfl=1.5, fl_gamma=0.0, label_smoothing=0.0, nbs=64, hsv_h=0.015, hsv_s=0.7, hsv_v=0.4, degrees=0.0, translate=0.1, scale=0.9, shear=0.0, perspective=0.0, flipud=0.0, fliplr=0.5, mosaic=1.0, mixup=0.15, copy_paste=0.3, cfg=None, v5loader=False, save_dir=model/train\n",
            "Overriding model.yaml nc=80 with nc=3\n",
            "\n",
            "                   from  n    params  module                                       arguments                     \n",
            "  0                  -1  1      2320  ultralytics.nn.modules.Conv                  [3, 80, 3, 2]                 \n",
            "  1                  -1  1    115520  ultralytics.nn.modules.Conv                  [80, 160, 3, 2]               \n",
            "  2                  -1  3    436800  ultralytics.nn.modules.C2f                   [160, 160, 3, True]           \n",
            "  3                  -1  1    461440  ultralytics.nn.modules.Conv                  [160, 320, 3, 2]              \n",
            "  4                  -1  6   3281920  ultralytics.nn.modules.C2f                   [320, 320, 6, True]           \n",
            "  5                  -1  1   1844480  ultralytics.nn.modules.Conv                  [320, 640, 3, 2]              \n",
            "  6                  -1  6  13117440  ultralytics.nn.modules.C2f                   [640, 640, 6, True]           \n",
            "  7                  -1  1   3687680  ultralytics.nn.modules.Conv                  [640, 640, 3, 2]              \n",
            "  8                  -1  3   6969600  ultralytics.nn.modules.C2f                   [640, 640, 3, True]           \n",
            "  9                  -1  1   1025920  ultralytics.nn.modules.SPPF                  [640, 640, 5]                 \n",
            " 10                  -1  1         0  torch.nn.modules.upsampling.Upsample         [None, 2, 'nearest']          \n",
            " 11             [-1, 6]  1         0  ultralytics.nn.modules.Concat                [1]                           \n",
            " 12                  -1  3   7379200  ultralytics.nn.modules.C2f                   [1280, 640, 3]                \n",
            " 13                  -1  1         0  torch.nn.modules.upsampling.Upsample         [None, 2, 'nearest']          \n",
            " 14             [-1, 4]  1         0  ultralytics.nn.modules.Concat                [1]                           \n",
            " 15                  -1  3   1948800  ultralytics.nn.modules.C2f                   [960, 320, 3]                 \n",
            " 16                  -1  1    922240  ultralytics.nn.modules.Conv                  [320, 320, 3, 2]              \n",
            " 17            [-1, 12]  1         0  ultralytics.nn.modules.Concat                [1]                           \n",
            " 18                  -1  3   7174400  ultralytics.nn.modules.C2f                   [960, 640, 3]                 \n",
            " 19                  -1  1   3687680  ultralytics.nn.modules.Conv                  [640, 640, 3, 2]              \n",
            " 20             [-1, 9]  1         0  ultralytics.nn.modules.Concat                [1]                           \n",
            " 21                  -1  3   7379200  ultralytics.nn.modules.C2f                   [1280, 640, 3]                \n",
            " 22        [15, 18, 21]  1   8720857  ultralytics.nn.modules.Detect                [3, [320, 640, 640]]          \n",
            "Model summary: 365 layers, 68155497 parameters, 68155481 gradients, 258.1 GFLOPs\n",
            "\n",
            "Transferred 589/595 items from pretrained weights\n",
            "\u001b[34m\u001b[1mAutoBatch: \u001b[0mComputing optimal batch size for imgsz=640\n",
            "\u001b[34m\u001b[1mAutoBatch: \u001b[0mCUDA:0 (Tesla T4) 14.76G total, 1.65G reserved, 0.60G allocated, 12.51G free\n"
          ]
        },
        {
          "metadata": {
            "tags": null
          },
          "name": "stdout",
          "output_type": "stream",
          "text": [
            "      Params      GFLOPs  GPU_mem (GB)  forward (ms) backward (ms)                   input                  output\n",
            "    68155497       258.1         1.783         45.35         41.06        (1, 3, 640, 640)                    list\n",
            "    68155497       516.3         2.238         53.36         52.09        (2, 3, 640, 640)                    list\n",
            "    68155497        1033         3.750         97.88         107.5        (4, 3, 640, 640)                    list\n",
            "    68155497        2065         6.786         215.4         218.7        (8, 3, 640, 640)                    list\n"
          ]
        },
        {
          "metadata": {
            "tags": null
          },
          "name": "stderr",
          "output_type": "stream",
          "text": [
            "\u001b[34m\u001b[1mAutoBatch: \u001b[0mUsing batch-size 10 for CUDA:0 10.51G/14.76G (71%) ✅\n",
            "\u001b[34m\u001b[1moptimizer:\u001b[0m SGD(lr=0.01) with parameter groups 97 weight(decay=0.0), 104 weight(decay=0.00094482421875), 103 bias\n"
          ]
        },
        {
          "metadata": {
            "tags": null
          },
          "name": "stdout",
          "output_type": "stream",
          "text": [
            "    68155497        4130        12.721         388.3         461.8       (16, 3, 640, 640)                    list\n"
          ]
        },
        {
          "output_type": "stream",
          "name": "stderr",
          "text": [
            "\u001b[34m\u001b[1mtrain: \u001b[0mScanning /content/coco128/labels/train... 13363 images, 8576 backgrounds, 0 corrupt: 100%|██████████| 13363/13363 [00:04<00:00, 3117.94it/s]\n",
            "\u001b[34m\u001b[1mtrain: \u001b[0mNew cache created: /content/coco128/labels/train.cache\n",
            "\u001b[34m\u001b[1malbumentations: \u001b[0mBlur(p=0.01, blur_limit=(3, 7)), MedianBlur(p=0.01, blur_limit=(3, 7)), ToGray(p=0.01), CLAHE(p=0.01, clip_limit=(1, 4.0), tile_grid_size=(8, 8))\n",
            "\u001b[34m\u001b[1mval: \u001b[0mScanning /content/coco128/labels/train.cache... 13363 images, 8576 backgrounds, 0 corrupt: 100%|██████████| 13363/13363 [00:00<?, ?it/s]\n",
            "Image sizes 640 train, 640 val\n",
            "Using 2 dataloader workers\n",
            "Logging results to \u001b[1mmodel/train\u001b[0m\n",
            "Starting training for 12 epochs...\n",
            "\n",
            "      Epoch    GPU_mem   box_loss   cls_loss   dfl_loss  Instances       Size\n",
            "       1/12      8.46G      1.729      3.568       1.43          3        640: 100%|██████████| 1337/1337 [19:19<00:00,  1.15it/s]\n",
            "                 Class     Images  Instances      Box(P          R      mAP50  mAP50-95): 100%|██████████| 669/669 [05:33<00:00,  2.00it/s]\n",
            "                   all      13363       5577      0.502      0.443       0.42      0.244\n",
            "\n",
            "      Epoch    GPU_mem   box_loss   cls_loss   dfl_loss  Instances       Size\n",
            "       2/12      9.45G      1.771      2.538      1.418          1        640: 100%|██████████| 1337/1337 [18:56<00:00,  1.18it/s]\n",
            "                 Class     Images  Instances      Box(P          R      mAP50  mAP50-95): 100%|██████████| 669/669 [05:34<00:00,  2.00it/s]\n",
            "                   all      13363       5577      0.461      0.356      0.325      0.175\n",
            "Closing dataloader mosaic\n",
            "\u001b[34m\u001b[1malbumentations: \u001b[0mBlur(p=0.01, blur_limit=(3, 7)), MedianBlur(p=0.01, blur_limit=(3, 7)), ToGray(p=0.01), CLAHE(p=0.01, clip_limit=(1, 4.0), tile_grid_size=(8, 8))\n",
            "\n",
            "      Epoch    GPU_mem   box_loss   cls_loss   dfl_loss  Instances       Size\n",
            "       3/12      9.45G      1.986      3.183      1.718          1        640: 100%|██████████| 1337/1337 [18:36<00:00,  1.20it/s]\n",
            "                 Class     Images  Instances      Box(P          R      mAP50  mAP50-95): 100%|██████████| 669/669 [05:30<00:00,  2.02it/s]\n",
            "                   all      13363       5577       0.31      0.188      0.157     0.0774\n",
            "\n",
            "      Epoch    GPU_mem   box_loss   cls_loss   dfl_loss  Instances       Size\n",
            "       4/12      9.45G      2.144      3.339      1.885          2        640: 100%|██████████| 1337/1337 [18:27<00:00,  1.21it/s]\n",
            "                 Class     Images  Instances      Box(P          R      mAP50  mAP50-95): 100%|██████████| 669/669 [05:22<00:00,  2.08it/s]\n",
            "                   all      13363       5577      0.316     0.0929     0.0988     0.0506\n",
            "\n",
            "      Epoch    GPU_mem   box_loss   cls_loss   dfl_loss  Instances       Size\n",
            "       5/12      9.45G      1.997      2.997      1.808          1        640: 100%|██████████| 1337/1337 [18:24<00:00,  1.21it/s]\n",
            "                 Class     Images  Instances      Box(P          R      mAP50  mAP50-95): 100%|██████████| 669/669 [05:28<00:00,  2.04it/s]\n",
            "                   all      13363       5577      0.617      0.243      0.253      0.129\n",
            "\n",
            "      Epoch    GPU_mem   box_loss   cls_loss   dfl_loss  Instances       Size\n",
            "       6/12      9.46G      1.959      2.794      1.732          2        640: 100%|██████████| 1337/1337 [18:23<00:00,  1.21it/s]\n",
            "                 Class     Images  Instances      Box(P          R      mAP50  mAP50-95): 100%|██████████| 669/669 [05:31<00:00,  2.02it/s]\n",
            "                   all      13363       5577      0.382      0.318      0.263      0.138\n",
            "\n",
            "      Epoch    GPU_mem   box_loss   cls_loss   dfl_loss  Instances       Size\n",
            "       7/12      9.46G      1.848      2.543      1.654          1        640: 100%|██████████| 1337/1337 [18:27<00:00,  1.21it/s]\n",
            "                 Class     Images  Instances      Box(P          R      mAP50  mAP50-95): 100%|██████████| 669/669 [05:27<00:00,  2.04it/s]\n",
            "                   all      13363       5577      0.476      0.359      0.361        0.2\n",
            "\n",
            "      Epoch    GPU_mem   box_loss   cls_loss   dfl_loss  Instances       Size\n",
            "       8/12      9.46G       1.77      2.392      1.597          0        640: 100%|██████████| 1337/1337 [18:26<00:00,  1.21it/s]\n",
            "                 Class     Images  Instances      Box(P          R      mAP50  mAP50-95): 100%|██████████| 669/669 [05:28<00:00,  2.04it/s]\n",
            "                   all      13363       5577       0.61      0.436      0.482      0.264\n",
            "\n",
            "      Epoch    GPU_mem   box_loss   cls_loss   dfl_loss  Instances       Size\n",
            "       9/12      9.46G      1.704      2.228      1.542          0        640: 100%|██████████| 1337/1337 [18:27<00:00,  1.21it/s]\n",
            "                 Class     Images  Instances      Box(P          R      mAP50  mAP50-95): 100%|██████████| 669/669 [05:30<00:00,  2.03it/s]\n",
            "                   all      13363       5577      0.599      0.467      0.496      0.273\n",
            "\n",
            "      Epoch    GPU_mem   box_loss   cls_loss   dfl_loss  Instances       Size\n",
            "      10/12      9.46G      1.659      2.129      1.506          1        640: 100%|██████████| 1337/1337 [18:26<00:00,  1.21it/s]\n",
            "                 Class     Images  Instances      Box(P          R      mAP50  mAP50-95): 100%|██████████| 669/669 [05:29<00:00,  2.03it/s]\n",
            "                   all      13363       5577      0.638      0.499      0.564      0.326\n",
            "\n",
            "      Epoch    GPU_mem   box_loss   cls_loss   dfl_loss  Instances       Size\n",
            "      11/12      9.46G      1.602       1.95      1.454          1        640: 100%|██████████| 1337/1337 [18:26<00:00,  1.21it/s]\n",
            "                 Class     Images  Instances      Box(P          R      mAP50  mAP50-95): 100%|██████████| 669/669 [05:28<00:00,  2.03it/s]\n",
            "                   all      13363       5577      0.668      0.551       0.61      0.362\n",
            "\n",
            "      Epoch    GPU_mem   box_loss   cls_loss   dfl_loss  Instances       Size\n",
            "      12/12      9.46G      1.569      1.815      1.431          1        640: 100%|██████████| 1337/1337 [18:26<00:00,  1.21it/s]\n",
            "                 Class     Images  Instances      Box(P          R      mAP50  mAP50-95): 100%|██████████| 669/669 [05:32<00:00,  2.01it/s]\n",
            "                   all      13363       5577      0.701      0.574      0.648      0.394\n",
            "\n",
            "12 epochs completed in 4.827 hours.\n",
            "Optimizer stripped from model/train/weights/last.pt, 136.7MB\n",
            "Optimizer stripped from model/train/weights/best.pt, 136.7MB\n",
            "\n",
            "Validating model/train/weights/best.pt...\n",
            "Ultralytics YOLOv8.0.35 🚀 Python-3.8.10 torch-1.13.1+cu116 CUDA:0 (Tesla T4, 15110MiB)\n",
            "Model summary (fused): 268 layers, 68126457 parameters, 0 gradients, 257.4 GFLOPs\n",
            "                 Class     Images  Instances      Box(P          R      mAP50  mAP50-95): 100%|██████████| 669/669 [05:30<00:00,  2.03it/s]\n",
            "                   all      13363       5577      0.701      0.574      0.648      0.394\n",
            "                cystic      13363       1770      0.711      0.655      0.726      0.504\n",
            "                   FFS      13363       2672      0.637      0.521      0.581      0.301\n",
            "                 solid      13363       1135      0.753      0.545      0.637      0.376\n",
            "Speed: 0.2ms pre-process, 20.6ms inference, 0.0ms loss, 1.2ms post-process per image\n",
            "Results saved to \u001b[1mmodel/train\u001b[0m\n"
          ]
        }
      ],
      "source": [
        "from ultralytics import YOLO\n",
        "\n",
        "# Load a model\n",
        "model = YOLO('yolov8x.pt')  # load a pretrained model (recommended for training) [yolov8n.pt, yolov8s.pt, yolov8m.pt, yolov8l.pt, yolov8x.pt]\n",
        "\n",
        "# Use the model\n",
        "results = model.train(data='coco129.yaml', epochs=12, optimizer='SGD', batch=-1, project='model')  # train the model  optimizer to use, choices=['SGD', 'Adam', 'AdamW', 'RMSProp']"
      ]
    },
    {
      "cell_type": "markdown",
      "metadata": {
        "id": "U8wuF_RYeGOr"
      },
      "source": [
        "### Predict"
      ]
    },
    {
      "cell_type": "code",
      "execution_count": null,
      "metadata": {
        "id": "SI0G50QswxoJ",
        "colab": {
          "base_uri": "https://localhost:8080/"
        },
        "outputId": "744db145-64a8-4c26-ac43-7b9462db372a"
      },
      "outputs": [
        {
          "output_type": "stream",
          "name": "stderr",
          "text": [
            "\r 99%|█████████▉| 2478/2500 [02:28<00:01, 16.11it/s]\n",
            "image 1/1 /content/test/8b08b70d-bd75-4edd-be00-67045c590013.jpg: 512x640 29.9ms\n",
            "Speed: 0.7ms pre-process, 29.9ms inference, 1.1ms postprocess per image at shape (1, 3, 640, 640)\n",
            "Results saved to \u001b[1mpredict/predict\u001b[0m\n",
            "165 labels saved to predict/predict/labels\n",
            "\n",
            "image 1/1 /content/test/585c3878-bec6-400c-bd49-fcf5f0d19b53.jpg: 512x640 31.2ms\n",
            "Speed: 0.5ms pre-process, 31.2ms inference, 1.1ms postprocess per image at shape (1, 3, 640, 640)\n",
            "Results saved to \u001b[1mpredict/predict\u001b[0m\n",
            "165 labels saved to predict/predict/labels\n",
            " 99%|█████████▉| 2480/2500 [02:29<00:01, 15.09it/s]\n",
            "image 1/1 /content/test/d38a3767-07f4-44b7-992d-e0fd431b5941.jpg: 480x640 34.2ms\n",
            "Speed: 0.5ms pre-process, 34.2ms inference, 1.1ms postprocess per image at shape (1, 3, 640, 640)\n",
            "Results saved to \u001b[1mpredict/predict\u001b[0m\n",
            "165 labels saved to predict/predict/labels\n",
            "\n",
            "image 1/1 /content/test/68154baf-6d1c-4da5-a26c-e902b38d0666.jpg: 480x640 28.9ms\n",
            "Speed: 0.5ms pre-process, 28.9ms inference, 1.2ms postprocess per image at shape (1, 3, 640, 640)\n",
            "Results saved to \u001b[1mpredict/predict\u001b[0m\n",
            "165 labels saved to predict/predict/labels\n",
            " 99%|█████████▉| 2482/2500 [02:29<00:01, 14.21it/s]\n",
            "image 1/1 /content/test/4348aa1e-7d97-4275-9dbb-4e4eeca732e3.jpg: 480x640 23.0ms\n",
            "Speed: 0.5ms pre-process, 23.0ms inference, 1.1ms postprocess per image at shape (1, 3, 640, 640)\n",
            "Results saved to \u001b[1mpredict/predict\u001b[0m\n",
            "165 labels saved to predict/predict/labels\n",
            "\n",
            "image 1/1 /content/test/4eda923d-918d-46a6-a0b3-cea5710e9682.jpg: 480x640 1 cystic, 22.5ms\n",
            "Speed: 0.5ms pre-process, 22.5ms inference, 2.2ms postprocess per image at shape (1, 3, 640, 640)\n",
            "Results saved to \u001b[1mpredict/predict\u001b[0m\n",
            "166 labels saved to predict/predict/labels\n",
            " 99%|█████████▉| 2484/2500 [02:29<00:01, 14.84it/s]\n",
            "image 1/1 /content/test/76744aec-41de-4465-ae3b-f1a8fa989d9a.jpg: 480x640 22.2ms\n",
            "Speed: 0.5ms pre-process, 22.2ms inference, 1.1ms postprocess per image at shape (1, 3, 640, 640)\n",
            "Results saved to \u001b[1mpredict/predict\u001b[0m\n",
            "166 labels saved to predict/predict/labels\n",
            "\n",
            "image 1/1 /content/test/cb0b657a-ad54-4ee3-9518-acad7149e4f5.jpg: 480x640 34.3ms\n",
            "Speed: 2.4ms pre-process, 34.3ms inference, 1.5ms postprocess per image at shape (1, 3, 640, 640)\n",
            "Results saved to \u001b[1mpredict/predict\u001b[0m\n",
            "166 labels saved to predict/predict/labels\n",
            " 99%|█████████▉| 2486/2500 [02:29<00:00, 14.95it/s]\n",
            "image 1/1 /content/test/22bf2318-fe13-4f8b-9366-49d466118b71.jpg: 480x640 28.0ms\n",
            "Speed: 0.5ms pre-process, 28.0ms inference, 1.5ms postprocess per image at shape (1, 3, 640, 640)\n",
            "Results saved to \u001b[1mpredict/predict\u001b[0m\n",
            "166 labels saved to predict/predict/labels\n",
            "\n",
            "image 1/1 /content/test/08a7034b-5626-45e2-9d6f-a0bff22aa310.jpg: 512x640 25.1ms\n",
            "Speed: 0.5ms pre-process, 25.1ms inference, 1.1ms postprocess per image at shape (1, 3, 640, 640)\n",
            "Results saved to \u001b[1mpredict/predict\u001b[0m\n",
            "166 labels saved to predict/predict/labels\n",
            "100%|█████████▉| 2488/2500 [02:29<00:00, 15.81it/s]\n",
            "image 1/1 /content/test/7672e3d4-956a-4b73-9d1f-691b1126695f.jpg: 480x640 24.3ms\n",
            "Speed: 0.4ms pre-process, 24.3ms inference, 1.0ms postprocess per image at shape (1, 3, 640, 640)\n",
            "Results saved to \u001b[1mpredict/predict\u001b[0m\n",
            "166 labels saved to predict/predict/labels\n",
            "\n",
            "image 1/1 /content/test/717df402-b8d5-449c-bb42-15902c5dd31d.jpg: 480x640 22.9ms\n",
            "Speed: 0.6ms pre-process, 22.9ms inference, 1.9ms postprocess per image at shape (1, 3, 640, 640)\n",
            "Results saved to \u001b[1mpredict/predict\u001b[0m\n",
            "166 labels saved to predict/predict/labels\n",
            "100%|█████████▉| 2490/2500 [02:29<00:00, 16.18it/s]\n",
            "image 1/1 /content/test/5c2b5084-bff5-4bb3-8781-4884902e4bb2.jpg: 480x640 23.5ms\n",
            "Speed: 0.5ms pre-process, 23.5ms inference, 1.6ms postprocess per image at shape (1, 3, 640, 640)\n",
            "Results saved to \u001b[1mpredict/predict\u001b[0m\n",
            "166 labels saved to predict/predict/labels\n",
            "\n",
            "image 1/1 /content/test/71b68fb1-a1b0-4976-909d-7c39f6a2dcaf.jpg: 480x640 22.2ms\n",
            "Speed: 0.5ms pre-process, 22.2ms inference, 1.2ms postprocess per image at shape (1, 3, 640, 640)\n",
            "Results saved to \u001b[1mpredict/predict\u001b[0m\n",
            "166 labels saved to predict/predict/labels\n",
            "100%|█████████▉| 2492/2500 [02:29<00:00, 16.42it/s]\n",
            "image 1/1 /content/test/dd12f6ff-70ad-4d4d-a937-f9bc1183e98a.jpg: 480x640 22.5ms\n",
            "Speed: 0.6ms pre-process, 22.5ms inference, 1.2ms postprocess per image at shape (1, 3, 640, 640)\n",
            "Results saved to \u001b[1mpredict/predict\u001b[0m\n",
            "166 labels saved to predict/predict/labels\n",
            "\n",
            "image 1/1 /content/test/e8385365-4f93-47f2-ae95-e4cda6b1f54f.jpg: 512x640 25.1ms\n",
            "Speed: 0.5ms pre-process, 25.1ms inference, 1.1ms postprocess per image at shape (1, 3, 640, 640)\n",
            "Results saved to \u001b[1mpredict/predict\u001b[0m\n",
            "166 labels saved to predict/predict/labels\n",
            "100%|█████████▉| 2494/2500 [02:29<00:00, 16.84it/s]\n",
            "image 1/1 /content/test/21d4e25a-6c3a-466f-81f6-1866229ee68a.jpg: 480x640 23.5ms\n",
            "Speed: 0.5ms pre-process, 23.5ms inference, 1.0ms postprocess per image at shape (1, 3, 640, 640)\n",
            "Results saved to \u001b[1mpredict/predict\u001b[0m\n",
            "166 labels saved to predict/predict/labels\n",
            "\n",
            "image 1/1 /content/test/ee3c908c-41d3-4709-bb2e-bb21fd69dba8.jpg: 480x640 23.8ms\n",
            "Speed: 0.5ms pre-process, 23.8ms inference, 1.2ms postprocess per image at shape (1, 3, 640, 640)\n",
            "Results saved to \u001b[1mpredict/predict\u001b[0m\n",
            "166 labels saved to predict/predict/labels\n",
            "100%|█████████▉| 2496/2500 [02:30<00:00, 16.38it/s]\n",
            "image 1/1 /content/test/11070ab7-fb07-40ab-8fd0-5f96d1ed06b4.jpg: 480x640 31.2ms\n",
            "Speed: 0.6ms pre-process, 31.2ms inference, 4.3ms postprocess per image at shape (1, 3, 640, 640)\n",
            "Results saved to \u001b[1mpredict/predict\u001b[0m\n",
            "166 labels saved to predict/predict/labels\n",
            "\n",
            "image 1/1 /content/test/3f254667-612c-493f-abed-e88548800fe6.jpg: 480x640 1 cystic, 31.0ms\n",
            "Speed: 0.5ms pre-process, 31.0ms inference, 2.5ms postprocess per image at shape (1, 3, 640, 640)\n",
            "Results saved to \u001b[1mpredict/predict\u001b[0m\n",
            "167 labels saved to predict/predict/labels\n",
            "100%|█████████▉| 2498/2500 [02:30<00:00, 14.74it/s]\n",
            "image 1/1 /content/test/ad1b7528-6225-4395-946e-50fcce433f39.jpg: 512x640 29.2ms\n",
            "Speed: 0.6ms pre-process, 29.2ms inference, 1.9ms postprocess per image at shape (1, 3, 640, 640)\n",
            "Results saved to \u001b[1mpredict/predict\u001b[0m\n",
            "167 labels saved to predict/predict/labels\n",
            "\n",
            "image 1/1 /content/test/ad70fded-6092-4d0a-be35-f75b221b9a18.jpg: 480x640 1 cystic, 24.1ms\n",
            "Speed: 0.5ms pre-process, 24.1ms inference, 2.8ms postprocess per image at shape (1, 3, 640, 640)\n",
            "Results saved to \u001b[1mpredict/predict\u001b[0m\n",
            "168 labels saved to predict/predict/labels\n",
            "100%|██████████| 2500/2500 [02:30<00:00, 16.63it/s]"
          ]
        },
        {
          "output_type": "stream",
          "name": "stdout",
          "text": [
            "CPU times: user 2min 13s, sys: 3.51 s, total: 2min 16s\n",
            "Wall time: 2min 30s\n"
          ]
        },
        {
          "output_type": "stream",
          "name": "stderr",
          "text": [
            "\n"
          ]
        }
      ],
      "source": [
        "#predict\n",
        "%%time\n",
        "model2 = YOLO('/content/model/train/weights/best.pt')\n",
        "base = '/content/test'\n",
        "lis = os.listdir(base)\n",
        "for i in tqdm(lis):\n",
        "  img_path = os.path.join(base, i)\n",
        "  model2(source=f\"{img_path}\", save_txt=True, save_crop=True, project='predict', exist_ok=True, save=True, save_conf=True, conf=0.6)"
      ]
    },
    {
      "cell_type": "markdown",
      "metadata": {
        "id": "tIMrpFTpViat"
      },
      "source": [
        "## Submit"
      ]
    },
    {
      "cell_type": "markdown",
      "metadata": {
        "id": "wcv6qk2_Wxlo"
      },
      "source": [
        "![image.png](data:image/png;base64,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)"
      ]
    },
    {
      "cell_type": "code",
      "execution_count": null,
      "metadata": {
        "id": "Yp8ZmW7pVjYe"
      },
      "outputs": [],
      "source": [
        "def yolo_to_coco(x, y, w, h,  image_w, image_h):\n",
        "  x1 = (x - w / 2) * image_w\n",
        "  y1 = (y - h / 2) * image_h\n",
        "  x2 = (x + w / 2) * image_w\n",
        "  y2 = (y + h / 2) * image_h\n",
        "  return [x1, y1, x2, y2]"
      ]
    },
    {
      "cell_type": "code",
      "execution_count": null,
      "metadata": {
        "id": "48RYVZu_VRk0"
      },
      "outputs": [],
      "source": [
        "lis = os.listdir('/content/test')\n",
        "all_name = []\n",
        "all_dict = []\n",
        "for i in lis:\n",
        "  name = i\n",
        "  img_path = '/content/test/' + i\n",
        "  txt_file = i[:-4] + '.txt'\n",
        "  all_name.append(name)\n",
        "  if txt_file in os.listdir('/content/predict/predict/labels'):\n",
        "    img = cv2.imread(img_path)\n",
        "    image_h, image_w = img.shape[:-1]\n",
        "\n",
        "    txt_file2 = os.path.join('/content/predict/predict/labels', txt_file)\n",
        "    f = open(txt_file2)\n",
        "    txt = (f.read())\n",
        "    pred = txt.split('\\n')[:-1]\n",
        "\n",
        "    boxes = []\n",
        "    labels = []\n",
        "    scores = []\n",
        "\n",
        "    # print(pred)\n",
        "    for j in pred:\n",
        "      value = j.split(' ')\n",
        "      labels.append(int(value[0]))\n",
        "      scores.append(float(value[5]))\n",
        "\n",
        "      x_center = float(value[1])\n",
        "      y_center = float(value[2])\n",
        "      w = float(value[3])\n",
        "      h = float(value[4])\n",
        "\n",
        "      boxes.append(yolo_to_coco(x_center, y_center, w, h,  image_w, image_h))\n",
        "      # print(labels)\n",
        "      # print(boxes)\n",
        "    all_dict.append({'boxes':boxes, 'labels':labels, 'scores':scores})\n",
        "  else:\n",
        "    all_dict.append({'boxes':[], 'labels':[], 'scores':[]})"
      ]
    },
    {
      "cell_type": "code",
      "execution_count": null,
      "metadata": {
        "colab": {
          "base_uri": "https://localhost:8080/"
        },
        "id": "xpOy7jyxdA-q",
        "outputId": "55e29c47-d761-41d6-8e15-3b8a25e49a17"
      },
      "outputs": [
        {
          "output_type": "stream",
          "name": "stdout",
          "text": [
            "2500 2500\n"
          ]
        }
      ],
      "source": [
        "dic = dict(zip(all_name, all_dict))\n",
        "print(len(all_dict), len(all_name))"
      ]
    },
    {
      "cell_type": "code",
      "execution_count": null,
      "metadata": {
        "id": "PVHbmphkADeI"
      },
      "outputs": [],
      "source": [
        "data = dict(zip(all_name, all_dict))"
      ]
    },
    {
      "cell_type": "code",
      "source": [
        "with open('submit_ส่งงาน_liver_machima-2.txt', 'w') as convert_file:\n",
        "     convert_file.write(json.dumps(data))"
      ],
      "metadata": {
        "id": "2ccKk463hAtV"
      },
      "execution_count": null,
      "outputs": []
    },
    {
      "cell_type": "code",
      "execution_count": null,
      "metadata": {
        "id": "WbOFbqcBddDP"
      },
      "outputs": [],
      "source": [
        "# สำหรับส่งงานในระบบ https://liver.aiat.or.th/\n",
        "# with open(\"submit_ส่งงาน.json\", \"w\") as outfile:\n",
        "#     json.dump(data, outfile)"
      ]
    },
    {
      "cell_type": "code",
      "source": [
        "while True:pass #ทำให้มันไม่ตัด sesion"
      ],
      "metadata": {
        "id": "Xm4P2j5Y_HeM"
      },
      "execution_count": null,
      "outputs": []
    },
    {
      "cell_type": "code",
      "source": [],
      "metadata": {
        "id": "b5iA7f34ipV0"
      },
      "execution_count": null,
      "outputs": []
    }
  ],
  "metadata": {
    "accelerator": "GPU",
    "colab": {
      "provenance": []
    },
    "gpuClass": "standard",
    "kernelspec": {
      "display_name": "Python 3",
      "name": "python3"
    },
    "language_info": {
      "name": "python"
    },
    "widgets": {
      "application/vnd.jupyter.widget-state+json": {
        "ed65b275020a45debd41bcb97bfb9cba": {
          "model_module": "@jupyter-widgets/controls",
          "model_name": "HBoxModel",
          "model_module_version": "1.5.0",
          "state": {
            "_dom_classes": [],
            "_model_module": "@jupyter-widgets/controls",
            "_model_module_version": "1.5.0",
            "_model_name": "HBoxModel",
            "_view_count": null,
            "_view_module": "@jupyter-widgets/controls",
            "_view_module_version": "1.5.0",
            "_view_name": "HBoxView",
            "box_style": "",
            "children": [
              "IPY_MODEL_2d0a4de8228e43cfbadc34697d7c5002",
              "IPY_MODEL_228cbaba55394055b54a9a11adf6351c",
              "IPY_MODEL_271f49fb8286448886ba37ccef28279f"
            ],
            "layout": "IPY_MODEL_0b02a6f88c214d11a049b08f53154d72"
          }
        },
        "2d0a4de8228e43cfbadc34697d7c5002": {
          "model_module": "@jupyter-widgets/controls",
          "model_name": "HTMLModel",
          "model_module_version": "1.5.0",
          "state": {
            "_dom_classes": [],
            "_model_module": "@jupyter-widgets/controls",
            "_model_module_version": "1.5.0",
            "_model_name": "HTMLModel",
            "_view_count": null,
            "_view_module": "@jupyter-widgets/controls",
            "_view_module_version": "1.5.0",
            "_view_name": "HTMLView",
            "description": "",
            "description_tooltip": null,
            "layout": "IPY_MODEL_6974066d2b45458c831786c4f06f58f6",
            "placeholder": "​",
            "style": "IPY_MODEL_7158ebfc464743b7a4cdeb8f1796689c",
            "value": "100%"
          }
        },
        "228cbaba55394055b54a9a11adf6351c": {
          "model_module": "@jupyter-widgets/controls",
          "model_name": "FloatProgressModel",
          "model_module_version": "1.5.0",
          "state": {
            "_dom_classes": [],
            "_model_module": "@jupyter-widgets/controls",
            "_model_module_version": "1.5.0",
            "_model_name": "FloatProgressModel",
            "_view_count": null,
            "_view_module": "@jupyter-widgets/controls",
            "_view_module_version": "1.5.0",
            "_view_name": "ProgressView",
            "bar_style": "success",
            "description": "",
            "description_tooltip": null,
            "layout": "IPY_MODEL_4b98ffb3a274445fa355588f6d190b5d",
            "max": 136867539,
            "min": 0,
            "orientation": "horizontal",
            "style": "IPY_MODEL_420c1486de0d4b04b512d00d5618cb3f",
            "value": 136867539
          }
        },
        "271f49fb8286448886ba37ccef28279f": {
          "model_module": "@jupyter-widgets/controls",
          "model_name": "HTMLModel",
          "model_module_version": "1.5.0",
          "state": {
            "_dom_classes": [],
            "_model_module": "@jupyter-widgets/controls",
            "_model_module_version": "1.5.0",
            "_model_name": "HTMLModel",
            "_view_count": null,
            "_view_module": "@jupyter-widgets/controls",
            "_view_module_version": "1.5.0",
            "_view_name": "HTMLView",
            "description": "",
            "description_tooltip": null,
            "layout": "IPY_MODEL_c1da351db2334df9874dda6739fc9c50",
            "placeholder": "​",
            "style": "IPY_MODEL_276bc30a57e74ba1861dcb6a2ea2b864",
            "value": " 131M/131M [00:04&lt;00:00, 19.7MB/s]"
          }
        },
        "0b02a6f88c214d11a049b08f53154d72": {
          "model_module": "@jupyter-widgets/base",
          "model_name": "LayoutModel",
          "model_module_version": "1.2.0",
          "state": {
            "_model_module": "@jupyter-widgets/base",
            "_model_module_version": "1.2.0",
            "_model_name": "LayoutModel",
            "_view_count": null,
            "_view_module": "@jupyter-widgets/base",
            "_view_module_version": "1.2.0",
            "_view_name": "LayoutView",
            "align_content": null,
            "align_items": null,
            "align_self": null,
            "border": null,
            "bottom": null,
            "display": null,
            "flex": null,
            "flex_flow": null,
            "grid_area": null,
            "grid_auto_columns": null,
            "grid_auto_flow": null,
            "grid_auto_rows": null,
            "grid_column": null,
            "grid_gap": null,
            "grid_row": null,
            "grid_template_areas": null,
            "grid_template_columns": null,
            "grid_template_rows": null,
            "height": null,
            "justify_content": null,
            "justify_items": null,
            "left": null,
            "margin": null,
            "max_height": null,
            "max_width": null,
            "min_height": null,
            "min_width": null,
            "object_fit": null,
            "object_position": null,
            "order": null,
            "overflow": null,
            "overflow_x": null,
            "overflow_y": null,
            "padding": null,
            "right": null,
            "top": null,
            "visibility": null,
            "width": null
          }
        },
        "6974066d2b45458c831786c4f06f58f6": {
          "model_module": "@jupyter-widgets/base",
          "model_name": "LayoutModel",
          "model_module_version": "1.2.0",
          "state": {
            "_model_module": "@jupyter-widgets/base",
            "_model_module_version": "1.2.0",
            "_model_name": "LayoutModel",
            "_view_count": null,
            "_view_module": "@jupyter-widgets/base",
            "_view_module_version": "1.2.0",
            "_view_name": "LayoutView",
            "align_content": null,
            "align_items": null,
            "align_self": null,
            "border": null,
            "bottom": null,
            "display": null,
            "flex": null,
            "flex_flow": null,
            "grid_area": null,
            "grid_auto_columns": null,
            "grid_auto_flow": null,
            "grid_auto_rows": null,
            "grid_column": null,
            "grid_gap": null,
            "grid_row": null,
            "grid_template_areas": null,
            "grid_template_columns": null,
            "grid_template_rows": null,
            "height": null,
            "justify_content": null,
            "justify_items": null,
            "left": null,
            "margin": null,
            "max_height": null,
            "max_width": null,
            "min_height": null,
            "min_width": null,
            "object_fit": null,
            "object_position": null,
            "order": null,
            "overflow": null,
            "overflow_x": null,
            "overflow_y": null,
            "padding": null,
            "right": null,
            "top": null,
            "visibility": null,
            "width": null
          }
        },
        "7158ebfc464743b7a4cdeb8f1796689c": {
          "model_module": "@jupyter-widgets/controls",
          "model_name": "DescriptionStyleModel",
          "model_module_version": "1.5.0",
          "state": {
            "_model_module": "@jupyter-widgets/controls",
            "_model_module_version": "1.5.0",
            "_model_name": "DescriptionStyleModel",
            "_view_count": null,
            "_view_module": "@jupyter-widgets/base",
            "_view_module_version": "1.2.0",
            "_view_name": "StyleView",
            "description_width": ""
          }
        },
        "4b98ffb3a274445fa355588f6d190b5d": {
          "model_module": "@jupyter-widgets/base",
          "model_name": "LayoutModel",
          "model_module_version": "1.2.0",
          "state": {
            "_model_module": "@jupyter-widgets/base",
            "_model_module_version": "1.2.0",
            "_model_name": "LayoutModel",
            "_view_count": null,
            "_view_module": "@jupyter-widgets/base",
            "_view_module_version": "1.2.0",
            "_view_name": "LayoutView",
            "align_content": null,
            "align_items": null,
            "align_self": null,
            "border": null,
            "bottom": null,
            "display": null,
            "flex": null,
            "flex_flow": null,
            "grid_area": null,
            "grid_auto_columns": null,
            "grid_auto_flow": null,
            "grid_auto_rows": null,
            "grid_column": null,
            "grid_gap": null,
            "grid_row": null,
            "grid_template_areas": null,
            "grid_template_columns": null,
            "grid_template_rows": null,
            "height": null,
            "justify_content": null,
            "justify_items": null,
            "left": null,
            "margin": null,
            "max_height": null,
            "max_width": null,
            "min_height": null,
            "min_width": null,
            "object_fit": null,
            "object_position": null,
            "order": null,
            "overflow": null,
            "overflow_x": null,
            "overflow_y": null,
            "padding": null,
            "right": null,
            "top": null,
            "visibility": null,
            "width": null
          }
        },
        "420c1486de0d4b04b512d00d5618cb3f": {
          "model_module": "@jupyter-widgets/controls",
          "model_name": "ProgressStyleModel",
          "model_module_version": "1.5.0",
          "state": {
            "_model_module": "@jupyter-widgets/controls",
            "_model_module_version": "1.5.0",
            "_model_name": "ProgressStyleModel",
            "_view_count": null,
            "_view_module": "@jupyter-widgets/base",
            "_view_module_version": "1.2.0",
            "_view_name": "StyleView",
            "bar_color": null,
            "description_width": ""
          }
        },
        "c1da351db2334df9874dda6739fc9c50": {
          "model_module": "@jupyter-widgets/base",
          "model_name": "LayoutModel",
          "model_module_version": "1.2.0",
          "state": {
            "_model_module": "@jupyter-widgets/base",
            "_model_module_version": "1.2.0",
            "_model_name": "LayoutModel",
            "_view_count": null,
            "_view_module": "@jupyter-widgets/base",
            "_view_module_version": "1.2.0",
            "_view_name": "LayoutView",
            "align_content": null,
            "align_items": null,
            "align_self": null,
            "border": null,
            "bottom": null,
            "display": null,
            "flex": null,
            "flex_flow": null,
            "grid_area": null,
            "grid_auto_columns": null,
            "grid_auto_flow": null,
            "grid_auto_rows": null,
            "grid_column": null,
            "grid_gap": null,
            "grid_row": null,
            "grid_template_areas": null,
            "grid_template_columns": null,
            "grid_template_rows": null,
            "height": null,
            "justify_content": null,
            "justify_items": null,
            "left": null,
            "margin": null,
            "max_height": null,
            "max_width": null,
            "min_height": null,
            "min_width": null,
            "object_fit": null,
            "object_position": null,
            "order": null,
            "overflow": null,
            "overflow_x": null,
            "overflow_y": null,
            "padding": null,
            "right": null,
            "top": null,
            "visibility": null,
            "width": null
          }
        },
        "276bc30a57e74ba1861dcb6a2ea2b864": {
          "model_module": "@jupyter-widgets/controls",
          "model_name": "DescriptionStyleModel",
          "model_module_version": "1.5.0",
          "state": {
            "_model_module": "@jupyter-widgets/controls",
            "_model_module_version": "1.5.0",
            "_model_name": "DescriptionStyleModel",
            "_view_count": null,
            "_view_module": "@jupyter-widgets/base",
            "_view_module_version": "1.2.0",
            "_view_name": "StyleView",
            "description_width": ""
          }
        }
      }
    }
  },
  "nbformat": 4,
  "nbformat_minor": 0
}